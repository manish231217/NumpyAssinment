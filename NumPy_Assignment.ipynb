{
 "cells": [
  {
   "cell_type": "code",
   "execution_count": 86,
   "id": "e8933301-6f84-41be-8724-604521e5493c",
   "metadata": {},
   "outputs": [
    {
     "name": "stdout",
     "output_type": "stream",
     "text": [
      "int32\n"
     ]
    }
   ],
   "source": [
    "#1. Create a NumPy array arr of integers from 0 to 5 and print its data type. \n",
    "import numpy as np\n",
    "arr = np.array([0, 1, 2, 3, 4, 5])\n",
    "print(arr.dtype)"
   ]
  },
  {
   "cell_type": "code",
   "execution_count": 87,
   "id": "f3b3236f-c36e-4d6a-99c8-e780cd39e0e1",
   "metadata": {
    "scrolled": true
   },
   "outputs": [
    {
     "name": "stdout",
     "output_type": "stream",
     "text": [
      "False\n"
     ]
    }
   ],
   "source": [
    "#2. Given a NumPy array arr, check if its data type is float64.\n",
    "print(arr.dtype == np.float64)\n",
    "\n"
   ]
  },
  {
   "cell_type": "code",
   "execution_count": 88,
   "id": "96bc59c3-aaa0-40e1-aac7-f70051861ee1",
   "metadata": {},
   "outputs": [
    {
     "name": "stdout",
     "output_type": "stream",
     "text": [
      "[1.+2.j 3.+4.j 5.+6.j]\n"
     ]
    }
   ],
   "source": [
    "# 3. Create a NumPy array arr with a data type of complex128 containing three\n",
    "# complex numbers.\n",
    "arr = np.array([1+2j, 3+4j, 5+6j], dtype=np.complex128)\n",
    "print(arr)\n",
    "\n"
   ]
  },
  {
   "cell_type": "code",
   "execution_count": 89,
   "id": "5f1e4bbf-0622-42c8-9631-2b5edb5e0e59",
   "metadata": {},
   "outputs": [
    {
     "name": "stdout",
     "output_type": "stream",
     "text": [
      "[1. 2. 3. 4. 5.]\n"
     ]
    }
   ],
   "source": [
    "#4. Convert an existing NumPy array arr of integers to float32 data type.\n",
    "arr = np.array([1, 2, 3, 4, 5])\n",
    "arr_float32 = arr.astype(np.float32)\n",
    "print(arr_float32)\n",
    "\n"
   ]
  },
  {
   "cell_type": "code",
   "execution_count": 90,
   "id": "f52711f0-c974-45b6-99ed-07497cad8427",
   "metadata": {},
   "outputs": [
    {
     "name": "stdout",
     "output_type": "stream",
     "text": [
      "[1.1 2.2 3.3]\n"
     ]
    }
   ],
   "source": [
    "# 5 Given a NumPy array arr with float64 data type, convert it to float32 to reduce decimal precision.\n",
    "arr = np.array([1.1, 2.2, 3.3], dtype=np.float64)\n",
    "arr_float32 = arr.astype(np.float32)\n",
    "print(arr_float32)\n",
    "\n"
   ]
  },
  {
   "cell_type": "code",
   "execution_count": 91,
   "id": "2a4470f3-0731-48ec-ab02-8cee67b33fdc",
   "metadata": {},
   "outputs": [],
   "source": [
    "# 6. Write a function array_attributes that takes a NumPy array as input and returns its shape, size, and data type.\n",
    "\n",
    "def array_attributes(arr):\n",
    "    return arr.shape, arr.size, arr.dtype\n",
    "\n"
   ]
  },
  {
   "cell_type": "code",
   "execution_count": 92,
   "id": "2c0b80ea-d832-481c-a0ba-2a2d37e9b736",
   "metadata": {},
   "outputs": [],
   "source": [
    "# 7. Create a function array_dimension that returns the dimensionality of a NumPy array.\n",
    "def array_dimension(arr):\n",
    "    return arr.ndim\n",
    "\n"
   ]
  },
  {
   "cell_type": "code",
   "execution_count": 93,
   "id": "0738a65e-8736-4d6a-823e-8610c77d1bf1",
   "metadata": {},
   "outputs": [],
   "source": [
    "# 8. Design a function item_size_info that returns the item size and total size in bytes\n",
    "# of a NumPy array.\n",
    "\n",
    "def item_size_info(arr):\n",
    "    return arr.itemsize, arr.nbytes\n",
    "\n"
   ]
  },
  {
   "cell_type": "code",
   "execution_count": 94,
   "id": "3c29ff06-e30a-4f1c-8bb0-338f1d976bb8",
   "metadata": {},
   "outputs": [],
   "source": [
    "# 9. Create a function array_strides that returns the strides of the given NumPy array.\n",
    "def array_strides(arr):\n",
    "    return arr.strides\n"
   ]
  },
  {
   "cell_type": "code",
   "execution_count": 95,
   "id": "07b19396-c591-4f2b-9acf-377d9a4644f9",
   "metadata": {},
   "outputs": [],
   "source": [
    "#10. Design a function shape_stride_relationship that returns the shape andstrides of the given array. \n",
    "def shape_stride_relationship(arr):\n",
    "    return arr.shape, arr.strides\n"
   ]
  },
  {
   "cell_type": "code",
   "execution_count": 96,
   "id": "0a75285c-6c82-4fa8-9c32-3379798d22ef",
   "metadata": {},
   "outputs": [],
   "source": [
    "# Array Creation\n",
    "# 11. Create a function create_zeros_array(n) to return a NumPy array of zeros with n elements. \n",
    "def create_zeros_array(n):\n",
    "    return np.zeros(n)\n",
    "\n"
   ]
  },
  {
   "cell_type": "code",
   "execution_count": 97,
   "id": "0e7cb883-d376-4dd1-9e7a-b43b21ea1a2b",
   "metadata": {},
   "outputs": [],
   "source": [
    "#12. Write a function create_ones_matrix(rows, cols) to create a 2D array filled with ones.\n",
    "\n",
    "def create_ones_matrix(rows, cols):\n",
    "    return np.ones((rows, cols))\n",
    "\n"
   ]
  },
  {
   "cell_type": "code",
   "execution_count": 98,
   "id": "90895320-e622-48da-942c-e7408c1c1a63",
   "metadata": {},
   "outputs": [],
   "source": [
    "#13. Write a function generate_range_array(start, stop, step) to create a ranged NumPy array.\n",
    "def generate_range_array(start, stop, step):\n",
    "    return np.arange(start, stop, step)\n",
    "\n"
   ]
  },
  {
   "cell_type": "code",
   "execution_count": 99,
   "id": "25a3a8a4-e194-4d0a-a452-523c841eae79",
   "metadata": {},
   "outputs": [],
   "source": [
    "# 14. Design a function generate_linear_space(start, stop, num) for equally\n",
    "# spaced values. \n",
    "def generate_linear_space(start, stop, num):\n",
    "    return np.linspace(start, stop, num)\n"
   ]
  },
  {
   "cell_type": "code",
   "execution_count": 100,
   "id": "f0e8e958-96cb-4cb2-85cb-a9a5331ca592",
   "metadata": {},
   "outputs": [],
   "source": [
    "# 15. Create a function create_identity_matrix(n) using numpy.eye.\n",
    "def create_identity_matrix(n):\n",
    "    return np.eye(n)\n",
    "\n"
   ]
  },
  {
   "cell_type": "code",
   "execution_count": 101,
   "id": "4260a071-e214-4a41-bb59-d16a5f3a6368",
   "metadata": {},
   "outputs": [],
   "source": [
    "# 16. Write a function that converts a Python list into a NumPy array.\n",
    "def list_to_numpy(lst):\n",
    "    return np.array(lst)\n"
   ]
  },
  {
   "cell_type": "code",
   "execution_count": 102,
   "id": "9e07602d-f4ac-4af9-81fe-3d76b18cede2",
   "metadata": {},
   "outputs": [
    {
     "name": "stdout",
     "output_type": "stream",
     "text": [
      "[1 2 3 4]\n"
     ]
    }
   ],
   "source": [
    "# 17. Create a NumPy array and use numpy.view() to create a new view with the same\n",
    "# data. \n",
    "arr = np.array([1, 2, 3, 4])\n",
    "view_arr = arr.view()\n",
    "print(view_arr)\n"
   ]
  },
  {
   "cell_type": "code",
   "execution_count": 103,
   "id": "7d43e3e7-df6b-4127-af1f-c5a03a94b1c6",
   "metadata": {},
   "outputs": [],
   "source": [
    "# Concatenation and Stacking\n",
    "# 18. Write a function to concatenate two NumPy arrays along a specified axis.\n",
    "\n",
    "def concatenate_arrays(arr1, arr2, axis=0):\n",
    "    return np.concatenate((arr1, arr2), axis=axis)\n"
   ]
  },
  {
   "cell_type": "code",
   "execution_count": 104,
   "id": "8e3733a2-d8fe-4cc9-ace9-002caa414c0d",
   "metadata": {},
   "outputs": [
    {
     "name": "stdout",
     "output_type": "stream",
     "text": [
      "[[1 3]\n",
      " [2 4]]\n"
     ]
    }
   ],
   "source": [
    "# 19. Concatenate two arrays with different shapes horizontally using\n",
    "# numpy.concatenate.\n",
    "\n",
    "\n",
    "arr1 = np.array([[1], [2]])\n",
    "arr2 = np.array([[3, 4]])\n",
    "print(np.concatenate((arr1, arr2.T), axis=1))\n"
   ]
  },
  {
   "cell_type": "code",
   "execution_count": 105,
   "id": "a146252b-87f7-4852-b24e-c366ff3b44f1",
   "metadata": {},
   "outputs": [],
   "source": [
    "# 20. Vertically stack multiple arrays from a list using numpy.vstack.\n",
    "# Array Generation\n",
    "def vertical_stack(arr_list):\n",
    "    return np.vstack(arr_list)\n",
    "\n"
   ]
  },
  {
   "cell_type": "code",
   "execution_count": 106,
   "id": "4d82d69c-73c9-4b70-9052-866e9fcb42b5",
   "metadata": {},
   "outputs": [],
   "source": [
    "# 21. Write a function to generate an array of integers within a specified range (inclusive)\n",
    "# with a step.\n",
    "def generate_range(start, stop, step):\n",
    "    return np.arange(start, stop+1, step)\n"
   ]
  },
  {
   "cell_type": "code",
   "execution_count": 107,
   "id": "5acab9c6-cb63-4ce4-a0d1-d896894ba926",
   "metadata": {},
   "outputs": [
    {
     "name": "stdout",
     "output_type": "stream",
     "text": [
      "[0.         0.11111111 0.22222222 0.33333333 0.44444444 0.55555556\n",
      " 0.66666667 0.77777778 0.88888889 1.        ]\n"
     ]
    }
   ],
   "source": [
    "# 22. Generate 10 equally spaced values between 0 and 1 using NumPy.\n",
    "print(np.linspace(0, 1, 10))\n",
    "\n"
   ]
  },
  {
   "cell_type": "code",
   "execution_count": 108,
   "id": "e7427cab-2607-4797-a07f-fd9b3a671f78",
   "metadata": {},
   "outputs": [
    {
     "name": "stdout",
     "output_type": "stream",
     "text": [
      "[   1.            5.62341325   31.6227766   177.827941   1000.        ]\n"
     ]
    }
   ],
   "source": [
    "# 23. Create 5 logarithmically spaced values between 1 and 1000.\n",
    "# Pandas + NumPy \n",
    "print(np.logspace(0, 3, 5, base=10))\n",
    "\n"
   ]
  },
  {
   "cell_type": "code",
   "execution_count": 109,
   "id": "1e15685a-25d5-4fbc-a5a6-47c21491fec3",
   "metadata": {},
   "outputs": [
    {
     "name": "stdout",
     "output_type": "stream",
     "text": [
      "    0    1   2\n",
      "0  94   71  55\n",
      "1  35   91  22\n",
      "2  69   94  15\n",
      "3  99  100  35\n",
      "4  37   69  90\n"
     ]
    }
   ],
   "source": [
    "# 24. Create a Pandas DataFrame from a NumPy array with 5 rows and 3 columns of\n",
    "# random integers (1-100).\n",
    "import pandas as pd\n",
    "array = np.random.randint(1, 101, (5, 3))\n",
    "df = pd.DataFrame(array)\n",
    "print(df)\n"
   ]
  },
  {
   "cell_type": "code",
   "execution_count": 110,
   "id": "a15752e2-6397-4d3e-9a0c-135c738dbceb",
   "metadata": {},
   "outputs": [],
   "source": [
    "# 25. Write a function to replace all negative values in a specific column with zeros using\n",
    "# NumPy.\n",
    "def replace_negatives_with_zero(arr):\n",
    "    arr[arr < 0] = 0\n",
    "    return arr\n"
   ]
  },
  {
   "cell_type": "code",
   "execution_count": 111,
   "id": "48468d8d-c47c-4c60-a12d-918203312623",
   "metadata": {},
   "outputs": [
    {
     "name": "stdout",
     "output_type": "stream",
     "text": [
      "30\n"
     ]
    }
   ],
   "source": [
    "# Indexing and Slicing\n",
    "# 26. Access the 3rd element from the given NumPy array.\n",
    "arr = np.array([10, 20, 30, 40])\n",
    "print(arr[2])\n"
   ]
  },
  {
   "cell_type": "code",
   "execution_count": 112,
   "id": "c61a2669-af2d-4adb-ac88-9f52d1100507",
   "metadata": {},
   "outputs": [
    {
     "name": "stdout",
     "output_type": "stream",
     "text": [
      "6\n"
     ]
    }
   ],
   "source": [
    "# 27. Retrieve the element at index (1, 2) from a 2D array.\n",
    "arr2d = np.array([[1, 2, 3], [4, 5, 6]])\n",
    "print(arr2d[1, 2])"
   ]
  },
  {
   "cell_type": "code",
   "execution_count": 113,
   "id": "9d9ebf2c-f715-4d62-9515-bb56ffb45a13",
   "metadata": {},
   "outputs": [
    {
     "name": "stdout",
     "output_type": "stream",
     "text": [
      "[6 8]\n"
     ]
    }
   ],
   "source": [
    "# 28. Extract elements greater than 5 using boolean indexing.\n",
    "arr = np.array([1, 6, 3, 8, 5])\n",
    "print(arr[arr > 5])\n"
   ]
  },
  {
   "cell_type": "code",
   "execution_count": 114,
   "id": "03ff9a61-c5fa-49ee-bed1-bdede3cd8ca5",
   "metadata": {},
   "outputs": [
    {
     "name": "stdout",
     "output_type": "stream",
     "text": [
      "[2 3 4 5]\n"
     ]
    }
   ],
   "source": [
    "# 29. Slice elements from index 2 to 5 (inclusive) from a NumPy array.\n",
    "arr = np.array([0, 1, 2, 3, 4, 5])\n",
    "print(arr[2:6])\n",
    "\n"
   ]
  },
  {
   "cell_type": "code",
   "execution_count": 115,
   "id": "cdc43fa5-147d-441d-a94b-7d8f49f3a9ad",
   "metadata": {},
   "outputs": [
    {
     "name": "stdout",
     "output_type": "stream",
     "text": [
      "[[2 3]\n",
      " [5 6]]\n"
     ]
    }
   ],
   "source": [
    "# 30. Slice the sub-array [[2, 3], [5, 6]] from a 2D array.\n",
    "arr2d = np.array([[1, 2, 3], [4, 5, 6]])\n",
    "print(arr2d[[0,1],1:3])\n"
   ]
  },
  {
   "cell_type": "code",
   "execution_count": 116,
   "id": "deea022c-3981-42fd-8d2c-1e1c22d36fad",
   "metadata": {},
   "outputs": [
    {
     "name": "stdout",
     "output_type": "stream",
     "text": [
      "[[1 2]\n",
      " [3 4]]\n"
     ]
    }
   ],
   "source": [
    "# Advanced Indexing\n",
    "# 31. Extract elements based on indices from a 2D array.\n",
    "arr2d = np.array([[1, 2], [3, 4]])\n",
    "indices = [0, 1]\n",
    "print(arr2d[indices])\n",
    "\n"
   ]
  },
  {
   "cell_type": "code",
   "execution_count": 117,
   "id": "46c4b2fd-f827-48e6-8a0a-409ccbeb86ac",
   "metadata": {},
   "outputs": [
    {
     "name": "stdout",
     "output_type": "stream",
     "text": [
      "[6 8 5]\n"
     ]
    }
   ],
   "source": [
    "# 32. Filter elements greater than a threshold using boolean indexing.\n",
    "arr = np.array([1, 6, 3, 8, 5])\n",
    "print(arr[arr > 4])\n",
    "\n"
   ]
  },
  {
   "cell_type": "code",
   "execution_count": 118,
   "id": "d06e7b05-83b4-4985-a394-67882b03f943",
   "metadata": {},
   "outputs": [
    {
     "name": "stdout",
     "output_type": "stream",
     "text": [
      "[ 5 15]\n"
     ]
    }
   ],
   "source": [
    "# 33. Extract specific elements from a 3D array using separate index arrays.\n",
    "arr = np.arange(27).reshape(3, 3, 3)\n",
    "print(arr[[0,1],[1,2],[2,0]])\n"
   ]
  },
  {
   "cell_type": "code",
   "execution_count": 119,
   "id": "2e33cd77-085e-4ba1-9215-4f3fa16f4703",
   "metadata": {},
   "outputs": [
    {
     "name": "stdout",
     "output_type": "stream",
     "text": [
      "[6 3 5]\n"
     ]
    }
   ],
   "source": [
    "# 34. Return elements satisfying two boolean conditions.\n",
    "arr = np.array([1, 6, 3, 8, 5])\n",
    "print(arr[(arr > 2) & (arr < 7)])\n"
   ]
  },
  {
   "cell_type": "code",
   "execution_count": 120,
   "id": "7dd04a0a-c3e0-481b-bc41-3c5d2d365e39",
   "metadata": {},
   "outputs": [
    {
     "name": "stdout",
     "output_type": "stream",
     "text": [
      "[20 60]\n"
     ]
    }
   ],
   "source": [
    "# 35. Extract elements from a 2D array using separate row and column index arrays.\n",
    "arr2d = np.array([[10, 20, 30], [40, 50, 60]])\n",
    "rows = [0, 1]\n",
    "cols = [1, 2]\n",
    "print(arr2d[rows, cols])\n"
   ]
  },
  {
   "cell_type": "code",
   "execution_count": 121,
   "id": "048eac7c-7145-41c7-a52c-4fd05c8337b4",
   "metadata": {},
   "outputs": [
    {
     "name": "stdout",
     "output_type": "stream",
     "text": [
      "[6 7 8]\n"
     ]
    }
   ],
   "source": [
    "# Broadcasting\n",
    "# 36. Add scalar 5 to every element of an array using broadcasting.\n",
    "arr = np.array([1, 2, 3])\n",
    "print(arr + 5)\n"
   ]
  },
  {
   "cell_type": "code",
   "execution_count": 122,
   "id": "18c4b5b0-7fc6-4874-91db-8e8ed0ea74a4",
   "metadata": {},
   "outputs": [
    {
     "name": "stdout",
     "output_type": "stream",
     "text": [
      "[[1. 1. 1. 1.]\n",
      " [2. 2. 2. 2.]\n",
      " [3. 3. 3. 3.]]\n"
     ]
    }
   ],
   "source": [
    "# 37. Multiply each row of a (3, 4) array by corresponding elements of a (1, 3) array.\n",
    "\n",
    "arr = np.ones((3, 4))\n",
    "mul = np.array([[1], [2], [3]])\n",
    "print(arr * mul)\n"
   ]
  },
  {
   "cell_type": "code",
   "execution_count": 123,
   "id": "39bf6094-dad2-4ea0-ba91-6ddb5ba98db8",
   "metadata": {},
   "outputs": [
    {
     "name": "stdout",
     "output_type": "stream",
     "text": [
      "[[2. 2. 2.]\n",
      " [3. 3. 3.]\n",
      " [4. 4. 4.]\n",
      " [5. 5. 5.]]\n"
     ]
    }
   ],
   "source": [
    "# 38. Add a (1, 4) array to every row of a (4, 3) array using broadcasting.\n",
    "\n",
    "arr = np.ones((4, 3))\n",
    "add = np.array([[1, 2, 3, 4]]).T\n",
    "print(arr + add)\n",
    "\n"
   ]
  },
  {
   "cell_type": "code",
   "execution_count": 124,
   "id": "bb35ebd9-7923-4c28-89ce-5658db38e061",
   "metadata": {},
   "outputs": [
    {
     "name": "stdout",
     "output_type": "stream",
     "text": [
      "[[2. 2. 2.]\n",
      " [2. 2. 2.]\n",
      " [2. 2. 2.]]\n"
     ]
    }
   ],
   "source": [
    "# 39. Add two arrays of shapes (3, 1) and (1, 3) using broadcasting.\n",
    "arr1 = np.ones((3,1))\n",
    "arr2 = np.ones((1,3))\n",
    "print(arr1 + arr2)\n",
    "\n"
   ]
  },
  {
   "cell_type": "code",
   "execution_count": 125,
   "id": "0b5ba532-f320-4471-a593-d9f047775417",
   "metadata": {},
   "outputs": [
    {
     "name": "stdout",
     "output_type": "stream",
     "text": [
      "Incompatible shapes: operands could not be broadcast together with shapes (2,3) (2,2) \n"
     ]
    }
   ],
   "source": [
    "# 40. Handle shape incompatibility during multiplication between (2, 3) and (2, 2) arrays\n",
    "\n",
    "try:\n",
    "    arr1 = np.ones((2,3))\n",
    "    arr2 = np.ones((2,2))\n",
    "    print(arr1 * arr2)\n",
    "except ValueError as e:\n",
    "    print(\"Incompatible shapes:\", e)\n"
   ]
  },
  {
   "cell_type": "code",
   "execution_count": 126,
   "id": "d95169e0-ce05-4151-bd1e-a570018532fd",
   "metadata": {},
   "outputs": [
    {
     "name": "stdout",
     "output_type": "stream",
     "text": [
      "[2.5 3.5 4.5]\n"
     ]
    }
   ],
   "source": [
    "# Aggregations and Statistics\n",
    "# 41. Calculate column-wise mean of a 2D array.\n",
    "arr = np.array([[1, 2, 3], [4, 5, 6]])\n",
    "print(np.mean(arr, axis=0))\n"
   ]
  },
  {
   "cell_type": "code",
   "execution_count": 127,
   "id": "cba2f278-4262-4323-b1ba-0df4b3aeaa60",
   "metadata": {},
   "outputs": [
    {
     "name": "stdout",
     "output_type": "stream",
     "text": [
      "[3 6]\n"
     ]
    }
   ],
   "source": [
    "# 42. Find maximum value in each row.\n",
    "print(np.max(arr, axis=1))\n"
   ]
  },
  {
   "cell_type": "code",
   "execution_count": 128,
   "id": "375c5298-1e43-4912-ac32-afbf3c8308eb",
   "metadata": {},
   "outputs": [
    {
     "name": "stdout",
     "output_type": "stream",
     "text": [
      "[1 1 1]\n"
     ]
    }
   ],
   "source": [
    "# 43. Find indices of maximum values in each column.\n",
    "print(np.argmax(arr, axis=0))\n"
   ]
  },
  {
   "cell_type": "code",
   "execution_count": 129,
   "id": "1b4f3372-0ad0-46f3-9c91-e2d54fcef6d0",
   "metadata": {},
   "outputs": [],
   "source": [
    "# 44. Apply a custom function to compute moving sum along rows.\n",
    "def moving_sum(arr, window):\n",
    "    return np.convolve(arr, np.ones(window, dtype=int), 'valid')\n"
   ]
  },
  {
   "cell_type": "code",
   "execution_count": 130,
   "id": "8578819d-71e6-4184-83a7-fec57a52b6c1",
   "metadata": {},
   "outputs": [
    {
     "name": "stdout",
     "output_type": "stream",
     "text": [
      "[False False False]\n"
     ]
    }
   ],
   "source": [
    "# 45. Check if all elements in each column are even.\n",
    "print(np.all(arr % 2 == 0, axis=0))\n"
   ]
  },
  {
   "cell_type": "code",
   "execution_count": 131,
   "id": "8faf110c-6d35-4549-82ff-8d63118fd952",
   "metadata": {},
   "outputs": [
    {
     "name": "stdout",
     "output_type": "stream",
     "text": [
      "[[ 0  1  2  3]\n",
      " [ 4  5  6  7]\n",
      " [ 8  9 10 11]]\n"
     ]
    }
   ],
   "source": [
    "# Reshaping and Flattening\n",
    "# 46. Reshape a given array into dimensions m x n.\n",
    "arr = np.arange(12)\n",
    "print(arr.reshape(3,4))\n"
   ]
  },
  {
   "cell_type": "code",
   "execution_count": 132,
   "id": "68badeb3-cb28-42e9-97cd-1a22f5939ce9",
   "metadata": {},
   "outputs": [
    {
     "name": "stdout",
     "output_type": "stream",
     "text": [
      "[1 2 3 4]\n"
     ]
    }
   ],
   "source": [
    "# 47. Return a flattened version of a given matrix.\n",
    "matrix = np.array([[1,2],[3,4]])\n",
    "print(matrix.flatten())\n"
   ]
  },
  {
   "cell_type": "code",
   "execution_count": 133,
   "id": "7adefb23-0ffc-457e-a366-17844595e6d9",
   "metadata": {},
   "outputs": [
    {
     "name": "stdout",
     "output_type": "stream",
     "text": [
      "[1 2 3 4]\n"
     ]
    }
   ],
   "source": [
    "# 48. Concatenate two arrays along a specified axis.\n",
    "arr1 = np.array([1,2])\n",
    "arr2 = np.array([3,4])\n",
    "print(np.concatenate((arr1, arr2)))\n"
   ]
  },
  {
   "cell_type": "code",
   "execution_count": 134,
   "id": "2c928be6-8d01-4a5d-a5ad-edff4ba39a6e",
   "metadata": {},
   "outputs": [
    {
     "name": "stdout",
     "output_type": "stream",
     "text": [
      "[array([0, 1, 2, 3, 4]), array([5, 6, 7, 8, 9])]\n"
     ]
    }
   ],
   "source": [
    "# 49. Split an array into sub-arrays along a specified axis.\n",
    "arr = np.array_split(np.arange(10), 2)\n",
    "print(arr)\n"
   ]
  },
  {
   "cell_type": "code",
   "execution_count": 135,
   "id": "3fb1fcf0-004e-4461-aae0-1cd12ccf7474",
   "metadata": {},
   "outputs": [
    {
     "name": "stdout",
     "output_type": "stream",
     "text": [
      "[ 1  2 99  3  5]\n"
     ]
    }
   ],
   "source": [
    "# 50. Insert and delete elements at specified indices from an array.\n",
    "arr = np.array([1, 2, 3, 4, 5])\n",
    "arr = np.insert(arr, 2, 99)\n",
    "arr = np.delete(arr, 4)\n",
    "print(arr)\n"
   ]
  },
  {
   "cell_type": "code",
   "execution_count": 136,
   "id": "655d1eb2-2e31-4f75-b5be-3105c5760e4e",
   "metadata": {},
   "outputs": [
    {
     "name": "stdout",
     "output_type": "stream",
     "text": [
      "[5 7 9]\n"
     ]
    }
   ],
   "source": [
    "# Element-wise Operations\n",
    "# 51. Perform element-wise addition between two arrays.\n",
    "arr1 = np.array([1,2,3])\n",
    "arr2 = np.array([4,5,6])\n",
    "print(arr1 + arr2)\n"
   ]
  },
  {
   "cell_type": "code",
   "execution_count": 137,
   "id": "f0d253b9-06d3-4a1b-a4f7-650464d4a76f",
   "metadata": {},
   "outputs": [
    {
     "name": "stdout",
     "output_type": "stream",
     "text": [
      "[-3 -3 -3]\n"
     ]
    }
   ],
   "source": [
    "# 52. Perform element-wise subtraction: subtract arr2 from arr1.\n",
    "print(arr1 - arr2)\n"
   ]
  },
  {
   "cell_type": "code",
   "execution_count": 138,
   "id": "8b5f5701-3bf0-487a-8b17-a77bb8ec6fae",
   "metadata": {},
   "outputs": [
    {
     "name": "stdout",
     "output_type": "stream",
     "text": [
      "[ 4 10 18]\n"
     ]
    }
   ],
   "source": [
    "# 53. Perform element-wise multiplication.\n",
    "print(arr1 * arr2)\n"
   ]
  },
  {
   "cell_type": "code",
   "execution_count": 139,
   "id": "3b86b1ef-f2d1-441a-a612-9c67cc07e137",
   "metadata": {},
   "outputs": [
    {
     "name": "stdout",
     "output_type": "stream",
     "text": [
      "[0.25 0.4  0.5 ]\n"
     ]
    }
   ],
   "source": [
    "# 54. Divide elements of arr1 by arr2 element-wise.\n",
    "print(arr1 / arr2)\n"
   ]
  },
  {
   "cell_type": "code",
   "execution_count": 140,
   "id": "e422ba9d-be85-481e-9152-9454e704051e",
   "metadata": {},
   "outputs": [
    {
     "name": "stdout",
     "output_type": "stream",
     "text": [
      "[  1  32 729]\n"
     ]
    }
   ],
   "source": [
    "# 55. Perform element-wise exponentiation: arr1 ** arr2.\n",
    "print(arr1 ** arr2)\n"
   ]
  },
  {
   "cell_type": "code",
   "execution_count": 141,
   "id": "2e6ddd72-bef8-47db-9331-9e795aad62f6",
   "metadata": {},
   "outputs": [
    {
     "name": "stdout",
     "output_type": "stream",
     "text": [
      "[2 0 1]\n"
     ]
    }
   ],
   "source": [
    "# String Operations\n",
    "# 56. Count occurrences of a substring in a string array.\n",
    "str_arr = np.array([\"apple apple\", \"banana\", \"apple\"])\n",
    "print(np.char.count(str_arr, \"apple\"))\n"
   ]
  },
  {
   "cell_type": "code",
   "execution_count": 142,
   "id": "4810bc42-7720-4d1b-b706-9ad894071de7",
   "metadata": {},
   "outputs": [
    {
     "name": "stdout",
     "output_type": "stream",
     "text": [
      "['H', 'WORLD', 'NP']\n"
     ]
    }
   ],
   "source": [
    "# 57. Extract uppercase characters from a string array.\n",
    "str_arr = np.array([\"Hello\", \"WORLD\", \"NumPy\"])\n",
    "print([\"\".join(filter(str.isupper, s)) for s in str_arr])\n"
   ]
  },
  {
   "cell_type": "code",
   "execution_count": 143,
   "id": "9ff42078-adaf-4e6f-a648-8cf1c5cff7ed",
   "metadata": {},
   "outputs": [
    {
     "name": "stdout",
     "output_type": "stream",
     "text": [
      "['Hello' 'WORLD' 'NumPy']\n"
     ]
    }
   ],
   "source": [
    "# 58. Replace substring occurrences with another string in a string array.\n",
    "print(np.char.replace(str_arr, \"apple\", \"orange\"))\n"
   ]
  },
  {
   "cell_type": "code",
   "execution_count": 144,
   "id": "58bb2ec6-63a9-4d25-b2be-2959b12168b2",
   "metadata": {},
   "outputs": [
    {
     "name": "stdout",
     "output_type": "stream",
     "text": [
      "['ax' 'by']\n"
     ]
    }
   ],
   "source": [
    "# 59. Concatenate strings in a NumPy array element-wise.\n",
    "print(np.char.add([\"a\", \"b\"], [\"x\", \"y\"]))\n"
   ]
  },
  {
   "cell_type": "code",
   "execution_count": 145,
   "id": "bae22316-8917-4d31-9a86-806b2f07c5d2",
   "metadata": {},
   "outputs": [
    {
     "name": "stdout",
     "output_type": "stream",
     "text": [
      "5\n"
     ]
    }
   ],
   "source": [
    "# 60. Find the length of the longest string in a string array.\n",
    "print(max([len(s) for s in str_arr]))\n"
   ]
  },
  {
   "cell_type": "code",
   "execution_count": 146,
   "id": "f3e2e81e-8001-425e-92bf-ae1f498f2300",
   "metadata": {},
   "outputs": [
    {
     "name": "stdout",
     "output_type": "stream",
     "text": [
      "497.75 474.5 82939.4075 287.9920267993543\n"
     ]
    }
   ],
   "source": [
    "# Descriptive Statistics\n",
    "# 61. Generate 100 random integers (1–1000) and compute mean, median, variance, and\n",
    "# std deviation.\n",
    "data = np.random.randint(1, 1001, 100)\n",
    "print(np.mean(data), np.median(data), np.var(data), np.std(data))\n"
   ]
  },
  {
   "cell_type": "code",
   "execution_count": 147,
   "id": "b2f4e325-c9cc-4461-b765-0aa7e4f05643",
   "metadata": {},
   "outputs": [
    {
     "name": "stdout",
     "output_type": "stream",
     "text": [
      "25.0 56.0\n"
     ]
    }
   ],
   "source": [
    "# 62. Generate 50 random numbers (1–100) and compute the 25th and 75th percentiles.\n",
    "data = np.random.randint(1, 101, 50)\n",
    "print(np.percentile(data, 25), np.percentile(data, 75))\n"
   ]
  },
  {
   "cell_type": "code",
   "execution_count": 148,
   "id": "371f8a8c-72ac-48ed-bc3c-35031962e056",
   "metadata": {},
   "outputs": [
    {
     "name": "stdout",
     "output_type": "stream",
     "text": [
      "[[1. 1.]\n",
      " [1. 1.]]\n"
     ]
    }
   ],
   "source": [
    "# 63. Compute correlation coefficient between two arrays using np.corrcoef.\n",
    "x = np.array([1, 2, 3])\n",
    "y = np.array([4, 5, 6])\n",
    "print(np.corrcoef(x, y))\n"
   ]
  },
  {
   "cell_type": "code",
   "execution_count": 149,
   "id": "6cdb3272-562c-42cf-943a-2e64777632cb",
   "metadata": {},
   "outputs": [
    {
     "name": "stdout",
     "output_type": "stream",
     "text": [
      "[[ 4  4]\n",
      " [10  8]]\n"
     ]
    }
   ],
   "source": [
    "# 64. Perform matrix multiplication using np.dot.\n",
    "A = np.array([[1, 2], [3, 4]])\n",
    "B = np.array([[2, 0], [1, 2]])\n",
    "print(np.dot(A, B))\n"
   ]
  },
  {
   "cell_type": "code",
   "execution_count": 150,
   "id": "4f7c0d1e-e6f0-4b8a-8b18-f38e25b11fd2",
   "metadata": {},
   "outputs": [
    {
     "name": "stdout",
     "output_type": "stream",
     "text": [
      "[13.  55.  87.3]\n"
     ]
    }
   ],
   "source": [
    "# 65. Compute the 10th, 50th, and 90th percentiles and quartiles for an array of 50\n",
    "# integers.\n",
    "data = np.random.randint(1, 101, 50)\n",
    "print(np.percentile(data, [10, 50, 90]))\n"
   ]
  },
  {
   "cell_type": "code",
   "execution_count": 151,
   "id": "4886ddca-4750-4cfa-a029-a420934fc433",
   "metadata": {},
   "outputs": [
    {
     "name": "stdout",
     "output_type": "stream",
     "text": [
      "(array([2], dtype=int64),)\n"
     ]
    }
   ],
   "source": [
    "# Search and Sort\n",
    "# 66. Find index of a specific element in an array.\n",
    "arr = np.array([10, 20, 30, 40])\n",
    "print(np.where(arr == 30))\n"
   ]
  },
  {
   "cell_type": "code",
   "execution_count": 152,
   "id": "55bbce65-09f4-48c5-bcb8-9037fefd193e",
   "metadata": {},
   "outputs": [
    {
     "name": "stdout",
     "output_type": "stream",
     "text": [
      "[ 2 35 42 57 69 72 81 88 89 98]\n"
     ]
    }
   ],
   "source": [
    "# 67. Sort a random array in ascending order.\n",
    "arr = np.random.randint(1, 100, 10)\n",
    "print(np.sort(arr))\n"
   ]
  },
  {
   "cell_type": "code",
   "execution_count": 153,
   "id": "f230d27b-1b4d-4f9d-825b-3ae6561a2d28",
   "metadata": {},
   "outputs": [
    {
     "name": "stdout",
     "output_type": "stream",
     "text": [
      "[72 81 42 69 88 57 98 89 35]\n"
     ]
    }
   ],
   "source": [
    "# 68. Filter elements greater than 20.\n",
    "print(arr[arr > 20])\n"
   ]
  },
  {
   "cell_type": "code",
   "execution_count": 154,
   "id": "76b70756-4450-4386-9d28-de54c955f819",
   "metadata": {},
   "outputs": [
    {
     "name": "stdout",
     "output_type": "stream",
     "text": [
      "[72 81 42 69 57]\n"
     ]
    }
   ],
   "source": [
    "# 69. Filter elements divisible by 3.\n",
    "print(arr[arr % 3 == 0])"
   ]
  },
  {
   "cell_type": "code",
   "execution_count": 155,
   "id": "b4dd5b9b-1b9d-4096-bec7-ce597e2e7ec3",
   "metadata": {},
   "outputs": [
    {
     "name": "stdout",
     "output_type": "stream",
     "text": [
      "[35]\n"
     ]
    }
   ],
   "source": [
    "# 70. Filter elements between 20 and 40 (inclusive).\n",
    "print(arr[(arr >= 20) & (arr <= 40)])\n",
    "\n"
   ]
  },
  {
   "cell_type": "code",
   "execution_count": 156,
   "id": "c55279bc-90df-4709-af4b-c954f603f015",
   "metadata": {},
   "outputs": [
    {
     "name": "stdout",
     "output_type": "stream",
     "text": [
      "=\n"
     ]
    }
   ],
   "source": [
    "# Byte Order & Swapping\n",
    "# 71. Check byte order of a NumPy array using dtype.byteorder.\n",
    "arr = np.array([1, 2, 3])\n",
    "print(arr.dtype.byteorder)\n"
   ]
  },
  {
   "cell_type": "code",
   "execution_count": 157,
   "id": "38b96a2e-3106-4e00-8c3f-a6077e34083e",
   "metadata": {},
   "outputs": [
    {
     "name": "stdout",
     "output_type": "stream",
     "text": [
      "[16777216 33554432 50331648]\n"
     ]
    }
   ],
   "source": [
    "# 72. Perform in-place byte swapping using byteswap().\n",
    "print(arr.byteswap(inplace=True))"
   ]
  },
  {
   "cell_type": "code",
   "execution_count": null,
   "id": "09e9455c-8f6a-46ae-b007-a834e720d051",
   "metadata": {},
   "outputs": [],
   "source": []
  },
  {
   "cell_type": "code",
   "execution_count": null,
   "id": "bf7ffa0f-8cc6-493a-b3ba-610e91362648",
   "metadata": {},
   "outputs": [],
   "source": []
  }
 ],
 "metadata": {
  "kernelspec": {
   "display_name": "Python [conda env:base] *",
   "language": "python",
   "name": "conda-base-py"
  },
  "language_info": {
   "codemirror_mode": {
    "name": "ipython",
    "version": 3
   },
   "file_extension": ".py",
   "mimetype": "text/x-python",
   "name": "python",
   "nbconvert_exporter": "python",
   "pygments_lexer": "ipython3",
   "version": "3.12.7"
  }
 },
 "nbformat": 4,
 "nbformat_minor": 5
}
